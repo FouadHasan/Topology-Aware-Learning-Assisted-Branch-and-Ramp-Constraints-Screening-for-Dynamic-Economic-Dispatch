{
 "cells": [
  {
   "cell_type": "code",
   "execution_count": 1,
   "metadata": {},
   "outputs": [],
   "source": [
    "import numpy as np\n",
    "import pandas as pd\n",
    "import matplotlib.pyplot as plt"
   ]
  },
  {
   "cell_type": "code",
   "execution_count": 2,
   "metadata": {},
   "outputs": [],
   "source": [
    "import tensorflow as tf\n",
    "from tensorflow.keras.models import Sequential\n",
    "from tensorflow.keras.layers import Dense, Dropout, Flatten \n",
    "from tensorflow.keras.layers import Conv2D, MaxPooling2D\n",
    "from tensorflow.keras.optimizers import Adam"
   ]
  },
  {
   "cell_type": "code",
   "execution_count": 3,
   "metadata": {},
   "outputs": [
    {
     "name": "stdout",
     "output_type": "stream",
     "text": [
      "(2000, 32, 32, 3)\n",
      "(2000, 34, 24)\n",
      "(2000, 10, 23)\n",
      "(2000, 10, 23)\n"
     ]
    }
   ],
   "source": [
    "from skimage import io\n",
    "\n",
    "# read the image stack\n",
    "# Original values in tif images are scaled between 0-255\n",
    "demand_img = io.imread('inputDBY_24.tif')\n",
    "demand_img = np.array(demand_img)\n",
    "print(demand_img.shape)\n",
    "\n",
    "LastIterLine_img = io.imread('LastIterLine_24.tif')\n",
    "LastIterLine_img = np.array(LastIterLine_img)\n",
    "print(LastIterLine_img.shape)\n",
    "\n",
    "LastIterRU_img = io.imread('LastIterRU_24.tif')\n",
    "LastIterRU_img = np.array(LastIterRU_img)\n",
    "print(LastIterRU_img.shape)\n",
    "\n",
    "LastIterRD_img = io.imread('LastIterRD_24.tif')\n",
    "LastIterRD_img = np.array(LastIterRD_img)\n",
    "print(LastIterRD_img.shape)\n",
    "\n",
    "Nunits=10\n",
    "Nbus=32\n",
    "Nbranch=34\n",
    "Horizon=24\n",
    "#n_scenario=np.size(demand_img,0)"
   ]
  },
  {
   "cell_type": "code",
   "execution_count": 4,
   "metadata": {},
   "outputs": [],
   "source": [
    "# normalizing between 0-1\n",
    "demand_img=(demand_img/255)\n",
    "LastIterLine_img=(LastIterLine_img/255)   \n",
    "LastIterRU_img=(LastIterRU_img/255)\n",
    "LastIterRD_img=(LastIterRD_img/255)"
   ]
  },
  {
   "cell_type": "code",
   "execution_count": 5,
   "metadata": {},
   "outputs": [],
   "source": [
    "#converting to original values\n",
    "#as input was converted to images (0 to 255)\n",
    "maxDem=355.1825\n",
    "maxcostB=57.4999\n",
    "maxYbus=157.7124\n",
    "#maxcostA=0.0802\n",
    "\n",
    "demand_img[0:,0:,0:,0]=demand_img[0:,0:,0:,0]*maxDem\n",
    "demand_img[0:,0:,0:,1]=demand_img[0:,0:,0:,1]*maxcostB\n",
    "demand_img[0:,0:,0:,2]=demand_img[0:,0:,0:,2]*maxYbus\n",
    "#demand_img[0:,0:,0:,1]=demand_img[0:,0:,0:,1]*maxcostA"
   ]
  },
  {
   "cell_type": "code",
   "execution_count": 6,
   "metadata": {},
   "outputs": [
    {
     "name": "stdout",
     "output_type": "stream",
     "text": [
      "(1600, 32, 32, 3)\n",
      "(1600, 34, 24)\n",
      "(1600, 10, 23)\n",
      "(1600, 10, 23)\n",
      "(1600, 32, 32, 3)\n",
      "(1600, 816)\n",
      "(1600, 230)\n",
      "(1600, 230)\n"
     ]
    }
   ],
   "source": [
    "#dataset for training\n",
    "\n",
    "demand_img_train=demand_img[0:1600,0:,0:,0:]\n",
    "LastIterLine_img_train=LastIterLine_img[0:1600,0:,0:]\n",
    "LastIterRU_img_train=LastIterRU_img[0:1600,0:,0:]\n",
    "LastIterRD_img_train=LastIterRD_img[0:1600,0:,0:]\n",
    "print(demand_img_train.shape)\n",
    "print(LastIterLine_img_train.shape)\n",
    "print(LastIterRU_img_train.shape)\n",
    "print(LastIterRD_img_train.shape)\n",
    "\n",
    "#normalizing training data\n",
    "#finding the stat of training data\n",
    "maxD=np.amax(demand_img_train[0:,0:,0:,0])\n",
    "maxB=np.amax(demand_img_train[0:,0:,0:,1])\n",
    "maxY=np.amax(demand_img_train[0:,0:,0:,2])\n",
    "#maxA=np.amax(demand_img_train[0:,0:,0:,2])\n",
    "\n",
    "demand_img_train[0:,0:,0:,0]=demand_img_train[0:,0:,0:,0]/maxD\n",
    "demand_img_train[0:,0:,0:,1]=demand_img_train[0:,0:,0:,1]/maxB\n",
    "demand_img_train[0:,0:,0:,2]=demand_img_train[0:,0:,0:,2]/maxY\n",
    "#demand_img[0:,0:,0:,2]=demand_img[0:,0:,0:,2]/maxA #this channel is zero for linear cost (0 division)\n",
    "\n",
    "#Reshaping training data\n",
    "n_scenario=np.size(demand_img_train,0)\n",
    "#n_training_scenario=np.size(demand_img_train,0)\n",
    "x_train_demand_line=np.reshape(demand_img_train,(n_scenario,Nbus,32,3))\n",
    "x_train_demand_rampRU=np.copy(x_train_demand_line)\n",
    "x_train_demand_rampRD=np.copy(x_train_demand_line)\n",
    "y_train_line=np.reshape(LastIterLine_img_train,(n_scenario,Nbranch*24),'F')\n",
    "y_train_rampRU=np.reshape(LastIterRU_img_train,(n_scenario,Nunits*23),'F')\n",
    "y_train_rampRD=np.reshape(LastIterRD_img_train,(n_scenario,Nunits*23),'F')\n",
    "\n",
    "print(x_train_demand_line.shape)\n",
    "print(y_train_line.shape)\n",
    "print(y_train_rampRU.shape)\n",
    "print(y_train_rampRD.shape)"
   ]
  },
  {
   "cell_type": "code",
   "execution_count": 7,
   "metadata": {},
   "outputs": [
    {
     "name": "stdout",
     "output_type": "stream",
     "text": [
      "(400, 32, 32, 3)\n",
      "(400, 34, 24)\n",
      "(400, 10, 23)\n",
      "(400, 10, 23)\n",
      "(400, 32, 32, 3)\n",
      "(400, 816)\n",
      "(400, 230)\n",
      "(400, 230)\n"
     ]
    }
   ],
   "source": [
    "#dataset for testing\n",
    "\n",
    "demand_img_test=demand_img[1600:,0:,0:,0:]\n",
    "LastIterLine_img_test=LastIterLine_img[1600:,0:,0:]\n",
    "LastIterRU_img_test=LastIterRU_img[1600:,0:,0:]\n",
    "LastIterRD_img_test=LastIterRD_img[1600:,0:,0:]\n",
    "print(demand_img_test.shape)\n",
    "print(LastIterLine_img_test.shape)\n",
    "print(LastIterRU_img_test.shape)\n",
    "print(LastIterRD_img_test.shape)\n",
    "\n",
    "#normalizing testing data\n",
    "#finding the stat of testing data\n",
    "maxD=np.amax(demand_img_test[0:,0:,0:,0])\n",
    "maxB=np.amax(demand_img_test[0:,0:,0:,1])\n",
    "maxY=np.amax(demand_img_test[0:,0:,0:,2])\n",
    "#maxA=np.amax(demand_img_test[0:,0:,0:,2])\n",
    "\n",
    "demand_img_test[0:,0:,0:,0]=demand_img_test[0:,0:,0:,0]/maxD\n",
    "demand_img_test[0:,0:,0:,1]=demand_img_test[0:,0:,0:,1]/maxB\n",
    "demand_img_test[0:,0:,0:,2]=demand_img_test[0:,0:,0:,2]/maxY\n",
    "\n",
    "#Reshaping testing data\n",
    "n_scenario=np.size(demand_img_test,0)\n",
    "#n_test_scenario=np.size(demand_img_test,0)\n",
    "x_test_demand_line=np.reshape(demand_img_test,(n_scenario,Nbus,32,3))\n",
    "x_test_demand_rampRU=np.copy(x_test_demand_line)\n",
    "x_test_demand_rampRD=np.copy(x_test_demand_line)\n",
    "y_test_line=np.reshape(LastIterLine_img_test,(n_scenario,Nbranch*24),'F')\n",
    "y_test_rampRU=np.reshape(LastIterRU_img_test,(n_scenario,Nunits*23),'F')\n",
    "y_test_rampRD=np.reshape(LastIterRD_img_test,(n_scenario,Nunits*23),'F')\n",
    "\n",
    "n_test_scenario=np.size(demand_img_test,0)\n",
    "\n",
    "print(x_test_demand_line.shape)\n",
    "print(y_test_line.shape)\n",
    "print(y_test_rampRU.shape)\n",
    "print(y_test_rampRD.shape)"
   ]
  },
  {
   "cell_type": "code",
   "execution_count": 8,
   "metadata": {},
   "outputs": [],
   "source": [
    "import tensorflow.keras.backend as K\n",
    "\n",
    "def f2(y_true, y_pred):\n",
    "    y_pred = K.round(y_pred)\n",
    "    tp = K.sum(K.cast(y_true*y_pred, 'float'), axis=0)\n",
    "    tn = K.sum(K.cast((1-y_true)*(1-y_pred), 'float'), axis=0)\n",
    "    fp = K.sum(K.cast((1-y_true)*y_pred, 'float'), axis=0)\n",
    "    fn = K.sum(K.cast(y_true*(1-y_pred), 'float'), axis=0)\n",
    "    p = tp / (tp + fp + K.epsilon())\n",
    "    r = tp / (tp + fn + K.epsilon())\n",
    "    f2 = 5*p*r / (4*p+r+K.epsilon())\n",
    "    return K.mean(f2)\n",
    "\n",
    "def f2_loss(y_true, y_pred):\n",
    "    \n",
    "    tp = K.sum(K.cast(y_true*y_pred, 'float'), axis=0)\n",
    "    tn = K.sum(K.cast((1-y_true)*(1-y_pred), 'float'), axis=0)\n",
    "    fp = K.sum(K.cast((1-y_true)*y_pred, 'float'), axis=0)\n",
    "    fn = K.sum(K.cast(y_true*(1-y_pred), 'float'), axis=0)\n",
    "    p = tp / (tp + fp + K.epsilon())\n",
    "    r = tp / (tp + fn + K.epsilon())\n",
    "    f2 = 5*p*r / (4*p+r+K.epsilon())\n",
    "    return 1 - K.mean(f2)\n",
    "\n",
    "from tensorflow.keras.callbacks import EarlyStopping\n",
    "custom_early_stopping = EarlyStopping(\n",
    "    monitor='val_loss', \n",
    "    patience=10, \n",
    "    min_delta=0.001, \n",
    "    mode='min',\n",
    "    verbose=1\n",
    ")"
   ]
  },
  {
   "cell_type": "code",
   "execution_count": 9,
   "metadata": {},
   "outputs": [
    {
     "name": "stdout",
     "output_type": "stream",
     "text": [
      "WARNING:tensorflow:Large dropout rate: 0.5125 (>0.5). In TensorFlow 2.x, dropout() uses dropout rate instead of keep_prob. Please ensure that this is intended.\n",
      "WARNING:tensorflow:Large dropout rate: 0.525 (>0.5). In TensorFlow 2.x, dropout() uses dropout rate instead of keep_prob. Please ensure that this is intended.\n",
      "WARNING:tensorflow:Large dropout rate: 0.5375 (>0.5). In TensorFlow 2.x, dropout() uses dropout rate instead of keep_prob. Please ensure that this is intended.\n",
      "WARNING:tensorflow:Large dropout rate: 0.55 (>0.5). In TensorFlow 2.x, dropout() uses dropout rate instead of keep_prob. Please ensure that this is intended.\n",
      "WARNING:tensorflow:Large dropout rate: 0.5625 (>0.5). In TensorFlow 2.x, dropout() uses dropout rate instead of keep_prob. Please ensure that this is intended.\n"
     ]
    }
   ],
   "source": [
    "# importing EfficientNet Architecture with imagenet weights\n",
    "import efficientnet.tfkeras as enet\n",
    "base = enet.EfficientNetB7(include_top=False, weights='imagenet',pooling='avg')"
   ]
  },
  {
   "cell_type": "code",
   "execution_count": 10,
   "metadata": {
    "scrolled": true
   },
   "outputs": [
    {
     "name": "stdout",
     "output_type": "stream",
     "text": [
      "Train on 1440 samples, validate on 160 samples\n",
      "Epoch 1/10\n",
      "1440/1440 [==============================] - 30s 21ms/sample - loss: 0.9890 - accuracy: 0.0285 - f2: 0.0110 - val_loss: 0.9804 - val_accuracy: 0.0000e+00 - val_f2: 0.0197\n",
      "Epoch 2/10\n",
      "1440/1440 [==============================] - 9s 6ms/sample - loss: 0.9886 - accuracy: 0.0236 - f2: 0.0114 - val_loss: 0.9804 - val_accuracy: 0.0000e+00 - val_f2: 0.0197\n",
      "Epoch 3/10\n",
      "1440/1440 [==============================] - 9s 6ms/sample - loss: 0.9886 - accuracy: 0.0292 - f2: 0.0115 - val_loss: 0.9804 - val_accuracy: 0.0000e+00 - val_f2: 0.0197\n",
      "Epoch 4/10\n",
      "1440/1440 [==============================] - 9s 6ms/sample - loss: 0.9886 - accuracy: 0.0139 - f2: 0.0114 - val_loss: 0.9804 - val_accuracy: 0.0000e+00 - val_f2: 0.0197\n",
      "Epoch 5/10\n",
      "1440/1440 [==============================] - 9s 6ms/sample - loss: 0.9887 - accuracy: 0.0160 - f2: 0.0113 - val_loss: 0.9804 - val_accuracy: 0.0000e+00 - val_f2: 0.0197\n",
      "Epoch 6/10\n",
      "1440/1440 [==============================] - 9s 6ms/sample - loss: 0.9886 - accuracy: 0.0153 - f2: 0.0114 - val_loss: 0.9804 - val_accuracy: 0.0000e+00 - val_f2: 0.0197\n",
      "Epoch 7/10\n",
      "1440/1440 [==============================] - 9s 6ms/sample - loss: 0.9884 - accuracy: 0.0188 - f2: 0.0116 - val_loss: 0.9804 - val_accuracy: 0.0000e+00 - val_f2: 0.0197\n",
      "Epoch 8/10\n",
      "1440/1440 [==============================] - 9s 6ms/sample - loss: 0.9886 - accuracy: 0.0014 - f2: 0.0114 - val_loss: 0.9804 - val_accuracy: 0.0000e+00 - val_f2: 0.0197\n",
      "Epoch 9/10\n",
      "1440/1440 [==============================] - 9s 6ms/sample - loss: 0.9887 - accuracy: 0.0028 - f2: 0.0112 - val_loss: 0.9804 - val_accuracy: 0.0000e+00 - val_f2: 0.0197\n",
      "Epoch 10/10\n",
      "1440/1440 [==============================] - 9s 6ms/sample - loss: 0.9886 - accuracy: 0.0035 - f2: 0.0114 - val_loss: 0.9804 - val_accuracy: 0.0000e+00 - val_f2: 0.0197\n",
      "Train on 1440 samples, validate on 160 samples\n",
      "Epoch 1/30\n",
      "1440/1440 [==============================] - 128s 89ms/sample - loss: 0.9888 - accuracy: 0.0111 - f2: 0.0116 - val_loss: 0.9804 - val_accuracy: 0.0000e+00 - val_f2: 0.0197\n",
      "Epoch 2/30\n",
      "1440/1440 [==============================] - 103s 72ms/sample - loss: 0.9888 - accuracy: 0.0118 - f2: 0.0115 - val_loss: 0.9804 - val_accuracy: 0.0000e+00 - val_f2: 0.0197\n",
      "Epoch 3/30\n",
      "1440/1440 [==============================] - 104s 72ms/sample - loss: 0.9888 - accuracy: 0.0139 - f2: 0.0114 - val_loss: 0.9804 - val_accuracy: 0.0000e+00 - val_f2: 0.0197\n",
      "Epoch 4/30\n",
      "1440/1440 [==============================] - 105s 73ms/sample - loss: 0.9886 - accuracy: 0.0104 - f2: 0.0116 - val_loss: 0.9804 - val_accuracy: 0.0000e+00 - val_f2: 0.0197\n",
      "Epoch 5/30\n",
      "1440/1440 [==============================] - 106s 73ms/sample - loss: 0.9887 - accuracy: 0.0097 - f2: 0.0114 - val_loss: 0.9804 - val_accuracy: 0.0000e+00 - val_f2: 0.0197\n",
      "Epoch 6/30\n",
      "1440/1440 [==============================] - 105s 73ms/sample - loss: 0.9887 - accuracy: 0.0146 - f2: 0.0115 - val_loss: 0.9804 - val_accuracy: 0.0000e+00 - val_f2: 0.0197\n",
      "Epoch 7/30\n",
      "1440/1440 [==============================] - 106s 73ms/sample - loss: 0.9886 - accuracy: 0.0181 - f2: 0.0117 - val_loss: 0.9804 - val_accuracy: 0.0000e+00 - val_f2: 0.0197\n",
      "Epoch 8/30\n",
      "1440/1440 [==============================] - 106s 74ms/sample - loss: 0.9885 - accuracy: 0.0104 - f2: 0.0117 - val_loss: 0.9804 - val_accuracy: 0.0000e+00 - val_f2: 0.0198\n",
      "Epoch 9/30\n",
      "1440/1440 [==============================] - 106s 73ms/sample - loss: 0.9885 - accuracy: 0.0118 - f2: 0.0116 - val_loss: 0.9792 - val_accuracy: 0.0312 - val_f2: 0.0205\n",
      "Epoch 10/30\n",
      "1440/1440 [==============================] - 106s 74ms/sample - loss: 0.9887 - accuracy: 0.0111 - f2: 0.0114 - val_loss: 0.9811 - val_accuracy: 0.0125 - val_f2: 0.0188\n",
      "Epoch 11/30\n",
      "1440/1440 [==============================] - 107s 74ms/sample - loss: 0.9886 - accuracy: 0.0139 - f2: 0.0116 - val_loss: 0.9812 - val_accuracy: 0.0063 - val_f2: 0.0187\n",
      "Epoch 12/30\n",
      "1440/1440 [==============================] - 106s 73ms/sample - loss: 0.9885 - accuracy: 0.0125 - f2: 0.0116 - val_loss: 0.9810 - val_accuracy: 0.0000e+00 - val_f2: 0.0185\n",
      "Epoch 13/30\n",
      "1440/1440 [==============================] - 107s 74ms/sample - loss: 0.9886 - accuracy: 0.0167 - f2: 0.0116 - val_loss: 0.9810 - val_accuracy: 0.0000e+00 - val_f2: 0.0185\n",
      "Epoch 14/30\n",
      "1440/1440 [==============================] - 106s 74ms/sample - loss: 0.9887 - accuracy: 0.0160 - f2: 0.0114 - val_loss: 0.9812 - val_accuracy: 0.0000e+00 - val_f2: 0.0184\n",
      "Epoch 15/30\n",
      "1440/1440 [==============================] - 106s 74ms/sample - loss: 0.9884 - accuracy: 0.0174 - f2: 0.0117 - val_loss: 0.9813 - val_accuracy: 0.0063 - val_f2: 0.0184\n",
      "Epoch 16/30\n",
      "1440/1440 [==============================] - 105s 73ms/sample - loss: 0.9887 - accuracy: 0.0132 - f2: 0.0114 - val_loss: 0.9813 - val_accuracy: 0.0000e+00 - val_f2: 0.0186\n",
      "Epoch 17/30\n",
      "1440/1440 [==============================] - 105s 73ms/sample - loss: 0.9887 - accuracy: 0.0139 - f2: 0.0114 - val_loss: 0.9815 - val_accuracy: 0.0000e+00 - val_f2: 0.0184\n",
      "Epoch 18/30\n",
      "1440/1440 [==============================] - 106s 73ms/sample - loss: 0.9884 - accuracy: 0.0181 - f2: 0.0117 - val_loss: 0.9814 - val_accuracy: 0.0063 - val_f2: 0.0188\n",
      "Epoch 19/30\n",
      "1440/1440 [==============================] - 106s 74ms/sample - loss: 0.9885 - accuracy: 0.0167 - f2: 0.0115 - val_loss: 0.9812 - val_accuracy: 0.0000e+00 - val_f2: 0.0185\n",
      "Epoch 00019: early stopping\n"
     ]
    }
   ],
   "source": [
    "# training and finetunig the modified EfficientNet architecture with imagenet weights\n",
    "model_line = Sequential()\n",
    "model_line.add(base)\n",
    "model_line.add(Flatten())\n",
    "model_line.add(Dense(1024, activation='relu'))\n",
    "model_line.add(Dense(Nbranch*24, activation='sigmoid'))\n",
    "\n",
    "for layer in model_line.layers[:-3]:\n",
    "    layer.trainable=False\n",
    "model_line.compile(loss=f2_loss, optimizer=Adam(), metrics=['accuracy',f2])\n",
    "history_line =model_line.fit(x_train_demand_line, y_train_line, batch_size=50, epochs=10,verbose=1,validation_split=0.1)\n",
    "\n",
    "# Unfreeze the base model\n",
    "for layer in model_line.layers[-5:]:\n",
    "    layer.trainable=True\n",
    "\n",
    "model_line.compile(loss=f2_loss, optimizer=Adam(0.00001), metrics=['accuracy',f2])   \n",
    "history_line =model_line.fit(x_train_demand_line, y_train_line, batch_size=50, epochs=30,verbose=1,validation_split=0.1,callbacks=[custom_early_stopping])"
   ]
  },
  {
   "cell_type": "code",
   "execution_count": 11,
   "metadata": {},
   "outputs": [
    {
     "name": "stdout",
     "output_type": "stream",
     "text": [
      "Train on 1440 samples, validate on 160 samples\n",
      "Epoch 1/10\n",
      "1440/1440 [==============================] - 63s 43ms/sample - loss: 0.8939 - accuracy: 0.0431 - f2: 0.1084 - val_loss: 0.8869 - val_accuracy: 0.0562 - val_f2: 0.1056\n",
      "Epoch 2/10\n",
      "1440/1440 [==============================] - 35s 24ms/sample - loss: 0.8835 - accuracy: 0.0694 - f2: 0.1182 - val_loss: 0.8846 - val_accuracy: 0.0875 - val_f2: 0.1081\n",
      "Epoch 3/10\n",
      "1440/1440 [==============================] - 32s 22ms/sample - loss: 0.8822 - accuracy: 0.0708 - f2: 0.1188 - val_loss: 0.8841 - val_accuracy: 0.0875 - val_f2: 0.1090\n",
      "Epoch 4/10\n",
      "1440/1440 [==============================] - 35s 24ms/sample - loss: 0.8815 - accuracy: 0.0569 - f2: 0.1193 - val_loss: 0.8840 - val_accuracy: 0.0688 - val_f2: 0.1086\n",
      "Epoch 5/10\n",
      "1440/1440 [==============================] - 36s 25ms/sample - loss: 0.8814 - accuracy: 0.0701 - f2: 0.1193 - val_loss: 0.8840 - val_accuracy: 0.0500 - val_f2: 0.1091\n",
      "Epoch 6/10\n",
      "1440/1440 [==============================] - 36s 25ms/sample - loss: 0.8810 - accuracy: 0.0750 - f2: 0.1194 - val_loss: 0.8833 - val_accuracy: 0.0500 - val_f2: 0.1096\n",
      "Epoch 7/10\n",
      "1440/1440 [==============================] - 36s 25ms/sample - loss: 0.8805 - accuracy: 0.0694 - f2: 0.1200 - val_loss: 0.8837 - val_accuracy: 0.0625 - val_f2: 0.1083\n",
      "Epoch 8/10\n",
      "1440/1440 [==============================] - 34s 23ms/sample - loss: 0.8801 - accuracy: 0.0854 - f2: 0.1203 - val_loss: 0.8832 - val_accuracy: 0.0688 - val_f2: 0.1098\n",
      "Epoch 9/10\n",
      "1440/1440 [==============================] - 35s 24ms/sample - loss: 0.8798 - accuracy: 0.0743 - f2: 0.1207 - val_loss: 0.8826 - val_accuracy: 0.0562 - val_f2: 0.1110\n",
      "Epoch 10/10\n",
      "1440/1440 [==============================] - 29s 20ms/sample - loss: 0.8789 - accuracy: 0.0833 - f2: 0.1218 - val_loss: 0.8838 - val_accuracy: 0.0625 - val_f2: 0.1073\n",
      "Train on 1440 samples, validate on 160 samples\n",
      "Epoch 1/30\n",
      "1440/1440 [==============================] - 162s 113ms/sample - loss: 0.8796 - accuracy: 0.0806 - f2: 0.1212 - val_loss: 0.8824 - val_accuracy: 0.0375 - val_f2: 0.1105\n",
      "Epoch 2/30\n",
      "1440/1440 [==============================] - 119s 83ms/sample - loss: 0.8782 - accuracy: 0.0743 - f2: 0.1223 - val_loss: 0.8817 - val_accuracy: 0.0625 - val_f2: 0.1108\n",
      "Epoch 3/30\n",
      "1440/1440 [==============================] - 126s 88ms/sample - loss: 0.8787 - accuracy: 0.0806 - f2: 0.1218 - val_loss: 0.8813 - val_accuracy: 0.0625 - val_f2: 0.1117\n",
      "Epoch 4/30\n",
      "1440/1440 [==============================] - 124s 86ms/sample - loss: 0.8776 - accuracy: 0.0778 - f2: 0.1233 - val_loss: 0.8809 - val_accuracy: 0.0750 - val_f2: 0.1120\n",
      "Epoch 5/30\n",
      "1440/1440 [==============================] - 128s 89ms/sample - loss: 0.8770 - accuracy: 0.0938 - f2: 0.1239 - val_loss: 0.8812 - val_accuracy: 0.0562 - val_f2: 0.1115\n",
      "Epoch 6/30\n",
      "1440/1440 [==============================] - 132s 92ms/sample - loss: 0.8770 - accuracy: 0.0847 - f2: 0.1236 - val_loss: 0.8809 - val_accuracy: 0.0688 - val_f2: 0.1119\n",
      "Epoch 7/30\n",
      "1440/1440 [==============================] - 130s 90ms/sample - loss: 0.8771 - accuracy: 0.0799 - f2: 0.1236 - val_loss: 0.8794 - val_accuracy: 0.0750 - val_f2: 0.1145\n",
      "Epoch 8/30\n",
      "1440/1440 [==============================] - 132s 92ms/sample - loss: 0.8761 - accuracy: 0.0833 - f2: 0.1247 - val_loss: 0.8787 - val_accuracy: 0.0750 - val_f2: 0.1151\n",
      "Epoch 9/30\n",
      "1440/1440 [==============================] - 132s 92ms/sample - loss: 0.8760 - accuracy: 0.0736 - f2: 0.1247 - val_loss: 0.8771 - val_accuracy: 0.0500 - val_f2: 0.1170\n",
      "Epoch 10/30\n",
      "1440/1440 [==============================] - 133s 92ms/sample - loss: 0.8758 - accuracy: 0.0910 - f2: 0.1247 - val_loss: 0.8761 - val_accuracy: 0.0562 - val_f2: 0.1176\n",
      "Epoch 11/30\n",
      "1440/1440 [==============================] - 133s 92ms/sample - loss: 0.8758 - accuracy: 0.0875 - f2: 0.1244 - val_loss: 0.8761 - val_accuracy: 0.0812 - val_f2: 0.1180\n",
      "Epoch 12/30\n",
      "1440/1440 [==============================] - 132s 92ms/sample - loss: 0.8747 - accuracy: 0.0931 - f2: 0.1259 - val_loss: 0.8759 - val_accuracy: 0.0812 - val_f2: 0.1182\n",
      "Epoch 13/30\n",
      "1440/1440 [==============================] - 133s 93ms/sample - loss: 0.8746 - accuracy: 0.0931 - f2: 0.1261 - val_loss: 0.8753 - val_accuracy: 0.1000 - val_f2: 0.1189\n",
      "Epoch 14/30\n",
      "1440/1440 [==============================] - 132s 91ms/sample - loss: 0.8736 - accuracy: 0.0785 - f2: 0.1273 - val_loss: 0.8746 - val_accuracy: 0.0938 - val_f2: 0.1193\n",
      "Epoch 15/30\n",
      "1440/1440 [==============================] - 134s 93ms/sample - loss: 0.8741 - accuracy: 0.0868 - f2: 0.1264 - val_loss: 0.8743 - val_accuracy: 0.0750 - val_f2: 0.1190\n",
      "Epoch 16/30\n",
      "1440/1440 [==============================] - 132s 92ms/sample - loss: 0.8737 - accuracy: 0.0771 - f2: 0.1268 - val_loss: 0.8735 - val_accuracy: 0.0938 - val_f2: 0.1198\n",
      "Epoch 17/30\n",
      "1440/1440 [==============================] - 131s 91ms/sample - loss: 0.8733 - accuracy: 0.0861 - f2: 0.1273 - val_loss: 0.8728 - val_accuracy: 0.1000 - val_f2: 0.1207\n",
      "Epoch 18/30\n",
      "1440/1440 [==============================] - 130s 90ms/sample - loss: 0.8724 - accuracy: 0.1069 - f2: 0.1280 - val_loss: 0.8722 - val_accuracy: 0.1125 - val_f2: 0.1212\n",
      "Epoch 19/30\n",
      "1440/1440 [==============================] - 132s 92ms/sample - loss: 0.8726 - accuracy: 0.0701 - f2: 0.1278 - val_loss: 0.8723 - val_accuracy: 0.0938 - val_f2: 0.1209\n",
      "Epoch 20/30\n",
      "1440/1440 [==============================] - 132s 92ms/sample - loss: 0.8729 - accuracy: 0.0799 - f2: 0.1279 - val_loss: 0.8715 - val_accuracy: 0.0750 - val_f2: 0.1215\n",
      "Epoch 21/30\n",
      "1440/1440 [==============================] - 132s 91ms/sample - loss: 0.8722 - accuracy: 0.0882 - f2: 0.1285 - val_loss: 0.8710 - val_accuracy: 0.1000 - val_f2: 0.1228\n",
      "Epoch 22/30\n",
      "1440/1440 [==============================] - 131s 91ms/sample - loss: 0.8715 - accuracy: 0.0924 - f2: 0.1291 - val_loss: 0.8705 - val_accuracy: 0.1125 - val_f2: 0.1228\n",
      "Epoch 23/30\n",
      "1440/1440 [==============================] - 132s 92ms/sample - loss: 0.8707 - accuracy: 0.0875 - f2: 0.1301 - val_loss: 0.8692 - val_accuracy: 0.1187 - val_f2: 0.1237\n",
      "Epoch 24/30\n",
      "1440/1440 [==============================] - 133s 93ms/sample - loss: 0.8701 - accuracy: 0.0875 - f2: 0.1306 - val_loss: 0.8690 - val_accuracy: 0.0938 - val_f2: 0.1238\n",
      "Epoch 25/30\n",
      "1440/1440 [==============================] - 132s 91ms/sample - loss: 0.8701 - accuracy: 0.0958 - f2: 0.1304 - val_loss: 0.8686 - val_accuracy: 0.0875 - val_f2: 0.1244\n",
      "Epoch 26/30\n",
      "1440/1440 [==============================] - 132s 92ms/sample - loss: 0.8703 - accuracy: 0.0917 - f2: 0.1303 - val_loss: 0.8689 - val_accuracy: 0.0875 - val_f2: 0.1242\n",
      "Epoch 27/30\n",
      "1440/1440 [==============================] - 133s 92ms/sample - loss: 0.8703 - accuracy: 0.0826 - f2: 0.1303 - val_loss: 0.8693 - val_accuracy: 0.1063 - val_f2: 0.1243\n",
      "Epoch 28/30\n",
      "1440/1440 [==============================] - 132s 92ms/sample - loss: 0.8687 - accuracy: 0.0833 - f2: 0.1319 - val_loss: 0.8692 - val_accuracy: 0.1250 - val_f2: 0.1242\n",
      "Epoch 29/30\n",
      "1440/1440 [==============================] - 132s 92ms/sample - loss: 0.8687 - accuracy: 0.0951 - f2: 0.1318 - val_loss: 0.8687 - val_accuracy: 0.1187 - val_f2: 0.1241\n",
      "Epoch 30/30\n",
      "1440/1440 [==============================] - 132s 92ms/sample - loss: 0.8681 - accuracy: 0.0958 - f2: 0.1325 - val_loss: 0.8680 - val_accuracy: 0.1063 - val_f2: 0.1249\n"
     ]
    }
   ],
   "source": [
    "# training and finetunig the modified EfficientNet architecture with imagenet weights\n",
    "\n",
    "model_rampRU = Sequential()\n",
    "model_rampRU.add(base)\n",
    "model_rampRU.add(Flatten())\n",
    "model_rampRU.add(Dense(256, activation='relu'))\n",
    "model_rampRU.add(Dense(Nunits*23, activation='sigmoid'))\n",
    "\n",
    "for layer in model_rampRU.layers[:-3]:\n",
    "    layer.trainable=False\n",
    "model_rampRU.compile(loss=f2_loss, optimizer=Adam(), metrics=['accuracy',f2])\n",
    "history_rampRU =model_rampRU.fit(x_train_demand_rampRU, y_train_rampRU, batch_size=50, epochs=10,verbose=1,validation_split=0.1)\n",
    "\n",
    "# Unfreeze the base model\n",
    "for layer in model_rampRU.layers[-5:]:\n",
    "    layer.trainable=True\n",
    "\n",
    "model_rampRU.compile(loss=f2_loss, optimizer=Adam(0.00001), metrics=['accuracy',f2])\n",
    "history_rampRU =model_rampRU.fit(x_train_demand_rampRU, y_train_rampRU, batch_size=50, epochs=30,verbose=1,validation_split=0.1,callbacks=[custom_early_stopping])"
   ]
  },
  {
   "cell_type": "code",
   "execution_count": 12,
   "metadata": {},
   "outputs": [
    {
     "name": "stdout",
     "output_type": "stream",
     "text": [
      "Train on 1440 samples, validate on 160 samples\n",
      "Epoch 1/10\n",
      "1440/1440 [==============================] - 73s 51ms/sample - loss: 0.8978 - accuracy: 0.0326 - f2: 0.1081 - val_loss: 0.8858 - val_accuracy: 0.0375 - val_f2: 0.1112\n",
      "Epoch 2/10\n",
      "1440/1440 [==============================] - 51s 35ms/sample - loss: 0.8802 - accuracy: 0.0500 - f2: 0.1235 - val_loss: 0.8727 - val_accuracy: 0.0437 - val_f2: 0.1207\n",
      "Epoch 3/10\n",
      "1440/1440 [==============================] - 51s 36ms/sample - loss: 0.8731 - accuracy: 0.0521 - f2: 0.1297 - val_loss: 0.8687 - val_accuracy: 0.0562 - val_f2: 0.1247\n",
      "Epoch 4/10\n",
      "1440/1440 [==============================] - 43s 30ms/sample - loss: 0.8697 - accuracy: 0.0542 - f2: 0.1327 - val_loss: 0.8685 - val_accuracy: 0.0625 - val_f2: 0.1250\n",
      "Epoch 5/10\n",
      "1440/1440 [==============================] - 51s 35ms/sample - loss: 0.8693 - accuracy: 0.0590 - f2: 0.1328 - val_loss: 0.8683 - val_accuracy: 0.0625 - val_f2: 0.1249\n",
      "Epoch 6/10\n",
      "1440/1440 [==============================] - 52s 36ms/sample - loss: 0.8681 - accuracy: 0.0500 - f2: 0.1336 - val_loss: 0.8654 - val_accuracy: 0.0625 - val_f2: 0.1271\n",
      "Epoch 7/10\n",
      "1440/1440 [==============================] - 50s 35ms/sample - loss: 0.8674 - accuracy: 0.0715 - f2: 0.1341 - val_loss: 0.8666 - val_accuracy: 0.0500 - val_f2: 0.1266\n",
      "Epoch 8/10\n",
      "1440/1440 [==============================] - 51s 35ms/sample - loss: 0.8666 - accuracy: 0.0479 - f2: 0.1347 - val_loss: 0.8651 - val_accuracy: 0.0562 - val_f2: 0.1270\n",
      "Epoch 9/10\n",
      "1440/1440 [==============================] - 51s 36ms/sample - loss: 0.8671 - accuracy: 0.0722 - f2: 0.1340 - val_loss: 0.8666 - val_accuracy: 0.0625 - val_f2: 0.1264\n",
      "Epoch 10/10\n",
      "1440/1440 [==============================] - 51s 36ms/sample - loss: 0.8655 - accuracy: 0.0604 - f2: 0.1355 - val_loss: 0.8665 - val_accuracy: 0.0750 - val_f2: 0.1269\n",
      "Train on 1440 samples, validate on 160 samples\n",
      "Epoch 1/30\n",
      "1440/1440 [==============================] - 193s 134ms/sample - loss: 0.8640 - accuracy: 0.0597 - f2: 0.1367 - val_loss: 0.8656 - val_accuracy: 0.0750 - val_f2: 0.1278\n",
      "Epoch 2/30\n",
      "1440/1440 [==============================] - 159s 110ms/sample - loss: 0.8648 - accuracy: 0.0583 - f2: 0.1360 - val_loss: 0.8653 - val_accuracy: 0.0688 - val_f2: 0.1282\n",
      "Epoch 3/30\n",
      "1440/1440 [==============================] - 158s 110ms/sample - loss: 0.8650 - accuracy: 0.0611 - f2: 0.1361 - val_loss: 0.8637 - val_accuracy: 0.0562 - val_f2: 0.1292\n",
      "Epoch 4/30\n",
      "1440/1440 [==============================] - 156s 108ms/sample - loss: 0.8637 - accuracy: 0.0674 - f2: 0.1369 - val_loss: 0.8628 - val_accuracy: 0.0562 - val_f2: 0.1294\n",
      "Epoch 5/30\n",
      "1440/1440 [==============================] - 160s 111ms/sample - loss: 0.8602 - accuracy: 0.0562 - f2: 0.1406 - val_loss: 0.8624 - val_accuracy: 0.0500 - val_f2: 0.1304\n",
      "Epoch 6/30\n",
      "1440/1440 [==============================] - 160s 111ms/sample - loss: 0.8618 - accuracy: 0.0549 - f2: 0.1391 - val_loss: 0.8625 - val_accuracy: 0.0500 - val_f2: 0.1296\n",
      "Epoch 7/30\n",
      "1440/1440 [==============================] - 160s 111ms/sample - loss: 0.8632 - accuracy: 0.0611 - f2: 0.1376 - val_loss: 0.8617 - val_accuracy: 0.0688 - val_f2: 0.1303\n",
      "Epoch 8/30\n",
      "1440/1440 [==============================] - 160s 111ms/sample - loss: 0.8598 - accuracy: 0.0597 - f2: 0.1411 - val_loss: 0.8619 - val_accuracy: 0.0562 - val_f2: 0.1306\n",
      "Epoch 9/30\n",
      "1440/1440 [==============================] - 160s 111ms/sample - loss: 0.8595 - accuracy: 0.0660 - f2: 0.1415 - val_loss: 0.8617 - val_accuracy: 0.0688 - val_f2: 0.1298\n",
      "Epoch 10/30\n",
      "1440/1440 [==============================] - 160s 111ms/sample - loss: 0.8594 - accuracy: 0.0708 - f2: 0.1417 - val_loss: 0.8614 - val_accuracy: 0.0688 - val_f2: 0.1307\n",
      "Epoch 11/30\n",
      "1440/1440 [==============================] - 160s 111ms/sample - loss: 0.8590 - accuracy: 0.0646 - f2: 0.1421 - val_loss: 0.8618 - val_accuracy: 0.0625 - val_f2: 0.1306\n",
      "Epoch 12/30\n",
      "1440/1440 [==============================] - 160s 111ms/sample - loss: 0.8586 - accuracy: 0.0618 - f2: 0.1421 - val_loss: 0.8613 - val_accuracy: 0.0625 - val_f2: 0.1305\n",
      "Epoch 13/30\n",
      "1440/1440 [==============================] - 160s 111ms/sample - loss: 0.8579 - accuracy: 0.0611 - f2: 0.1430 - val_loss: 0.8607 - val_accuracy: 0.0688 - val_f2: 0.1313\n",
      "Epoch 14/30\n",
      "1440/1440 [==============================] - 160s 111ms/sample - loss: 0.8572 - accuracy: 0.0528 - f2: 0.1438 - val_loss: 0.8607 - val_accuracy: 0.0562 - val_f2: 0.1314\n",
      "Epoch 15/30\n",
      "1440/1440 [==============================] - 161s 112ms/sample - loss: 0.8591 - accuracy: 0.0625 - f2: 0.1418 - val_loss: 0.8596 - val_accuracy: 0.0625 - val_f2: 0.1319\n",
      "Epoch 16/30\n",
      "1440/1440 [==============================] - 160s 111ms/sample - loss: 0.8575 - accuracy: 0.0660 - f2: 0.1435 - val_loss: 0.8591 - val_accuracy: 0.0625 - val_f2: 0.1321\n",
      "Epoch 17/30\n",
      "1440/1440 [==============================] - 160s 111ms/sample - loss: 0.8574 - accuracy: 0.0632 - f2: 0.1436 - val_loss: 0.8592 - val_accuracy: 0.0625 - val_f2: 0.1324\n",
      "Epoch 18/30\n",
      "1440/1440 [==============================] - 160s 111ms/sample - loss: 0.8565 - accuracy: 0.0694 - f2: 0.1442 - val_loss: 0.8599 - val_accuracy: 0.0500 - val_f2: 0.1317\n",
      "Epoch 19/30\n",
      "1440/1440 [==============================] - 158s 110ms/sample - loss: 0.8576 - accuracy: 0.0653 - f2: 0.1436 - val_loss: 0.8592 - val_accuracy: 0.0625 - val_f2: 0.1323\n",
      "Epoch 20/30\n",
      "1440/1440 [==============================] - 161s 112ms/sample - loss: 0.8557 - accuracy: 0.0597 - f2: 0.1453 - val_loss: 0.8595 - val_accuracy: 0.0688 - val_f2: 0.1320\n",
      "Epoch 21/30\n",
      "1440/1440 [==============================] - 160s 111ms/sample - loss: 0.8557 - accuracy: 0.0785 - f2: 0.1452 - val_loss: 0.8594 - val_accuracy: 0.0625 - val_f2: 0.1323\n",
      "Epoch 22/30\n",
      "1440/1440 [==============================] - 161s 112ms/sample - loss: 0.8567 - accuracy: 0.0667 - f2: 0.1441 - val_loss: 0.8598 - val_accuracy: 0.0625 - val_f2: 0.1319\n",
      "Epoch 23/30\n",
      "1440/1440 [==============================] - 160s 111ms/sample - loss: 0.8557 - accuracy: 0.0639 - f2: 0.1451 - val_loss: 0.8590 - val_accuracy: 0.0562 - val_f2: 0.1329\n",
      "Epoch 24/30\n",
      "1440/1440 [==============================] - 160s 111ms/sample - loss: 0.8547 - accuracy: 0.0660 - f2: 0.1464 - val_loss: 0.8588 - val_accuracy: 0.0500 - val_f2: 0.1331\n",
      "Epoch 25/30\n",
      "1440/1440 [==============================] - 160s 111ms/sample - loss: 0.8551 - accuracy: 0.0715 - f2: 0.1458 - val_loss: 0.8581 - val_accuracy: 0.0562 - val_f2: 0.1339\n",
      "Epoch 26/30\n",
      "1440/1440 [==============================] - 160s 111ms/sample - loss: 0.8531 - accuracy: 0.0681 - f2: 0.1481 - val_loss: 0.8580 - val_accuracy: 0.0562 - val_f2: 0.1334\n",
      "Epoch 27/30\n",
      "1440/1440 [==============================] - 160s 111ms/sample - loss: 0.8549 - accuracy: 0.0806 - f2: 0.1458 - val_loss: 0.8587 - val_accuracy: 0.0625 - val_f2: 0.1332\n",
      "Epoch 28/30\n",
      "1440/1440 [==============================] - 160s 111ms/sample - loss: 0.8531 - accuracy: 0.0681 - f2: 0.1479 - val_loss: 0.8587 - val_accuracy: 0.0562 - val_f2: 0.1335\n",
      "Epoch 29/30\n",
      "1440/1440 [==============================] - 160s 111ms/sample - loss: 0.8540 - accuracy: 0.0701 - f2: 0.1468 - val_loss: 0.8585 - val_accuracy: 0.0500 - val_f2: 0.1335\n",
      "Epoch 30/30\n",
      "1440/1440 [==============================] - 160s 111ms/sample - loss: 0.8526 - accuracy: 0.0660 - f2: 0.1484 - val_loss: 0.8582 - val_accuracy: 0.0562 - val_f2: 0.1336\n"
     ]
    }
   ],
   "source": [
    "# training and finetunig the modified EfficientNet architecture with imagenet weights\n",
    "\n",
    "model_rampRD = Sequential()\n",
    "model_rampRD.add(base)\n",
    "model_rampRD.add(Flatten())\n",
    "model_rampRD.add(Dense(256, activation='relu'))\n",
    "model_rampRD.add(Dense(Nunits*23, activation='sigmoid'))\n",
    "\n",
    "for layer in model_rampRD.layers[:-3]:\n",
    "    layer.trainable=False\n",
    "model_rampRD.compile(loss=f2_loss, optimizer=Adam(), metrics=['accuracy',f2])\n",
    "history_rampRD =model_rampRD.fit(x_train_demand_rampRD, y_train_rampRD, batch_size=50, epochs=10,verbose=1,validation_split=0.1)\n",
    "\n",
    "# Unfreeze the base model\n",
    "for layer in model_rampRD.layers[-5:]:\n",
    "    layer.trainable=True\n",
    "\n",
    "model_rampRD.compile(loss=f2_loss, optimizer=Adam(0.00001), metrics=['accuracy',f2])\n",
    "history_rampRD =model_rampRD.fit(x_train_demand_rampRD, y_train_rampRD, batch_size=50, epochs=30,verbose=1,validation_split=0.1,callbacks=[custom_early_stopping])"
   ]
  },
  {
   "cell_type": "code",
   "execution_count": 13,
   "metadata": {},
   "outputs": [
    {
     "data": {
      "image/png": "[encoded data removed]",
      "text/plain": [
       "<Figure size 432x288 with 1 Axes>"
      ]
     },
     "metadata": {
      "needs_background": "light"
     },
     "output_type": "display_data"
    },
    {
     "data": {
      "image/png": "[encoded data removed]",
      "text/plain": [
       "<Figure size 432x288 with 1 Axes>"
      ]
     },
     "metadata": {
      "needs_background": "light"
     },
     "output_type": "display_data"
    },
    {
     "data": {
      "image/png": "[encoded data removed]",
      "text/plain": [
       "<Figure size 432x288 with 1 Axes>"
      ]
     },
     "metadata": {
      "needs_background": "light"
     },
     "output_type": "display_data"
    }
   ],
   "source": [
    "#print(history.history.keys())\n",
    "import matplotlib.pyplot as plt\n",
    "\n",
    "plt.plot(history_line.history['loss'])\n",
    "plt.title('Model Training Loss')\n",
    "plt.ylabel('loss')\n",
    "plt.xlabel('epoch')\n",
    "plt.legend(['loss_line'], loc='upper right')          \n",
    "plt.show()\n",
    "\n",
    "plt.plot(history_rampRU.history['loss'])\n",
    "plt.title('Model Training Loss')\n",
    "plt.ylabel('loss')\n",
    "plt.xlabel('epoch')\n",
    "plt.legend(['loss_rampRU'], loc='upper right')          \n",
    "plt.show()\n",
    "\n",
    "plt.plot(history_rampRD.history['loss'])\n",
    "plt.title('Model Training Loss')\n",
    "plt.ylabel('loss')\n",
    "plt.xlabel('epoch')\n",
    "plt.legend(['loss_rampRD'], loc='upper right')          \n",
    "plt.show()"
   ]
  },
  {
   "cell_type": "code",
   "execution_count": 14,
   "metadata": {},
   "outputs": [
    {
     "name": "stdout",
     "output_type": "stream",
     "text": [
      "(400, 816)\n",
      "(400, 230)\n",
      "(400, 230)\n"
     ]
    }
   ],
   "source": [
    "# prediction \n",
    "y_pred_line=model_line.predict(x_test_demand_line)\n",
    "y_pred_rampRU=model_rampRU.predict(x_test_demand_rampRU)\n",
    "y_pred_rampRD=model_rampRD.predict(x_test_demand_rampRD)\n",
    "print(y_pred_line.shape)\n",
    "print(y_pred_rampRU.shape)\n",
    "print(y_pred_rampRD.shape)"
   ]
  },
  {
   "cell_type": "code",
   "execution_count": 15,
   "metadata": {},
   "outputs": [
    {
     "name": "stdout",
     "output_type": "stream",
     "text": [
      "[[321242   3734]\n",
      " [   799    625]]\n",
      "[[66761 21928]\n",
      " [  431  2880]]\n",
      "[[71515 17698]\n",
      " [  634  2153]]\n"
     ]
    }
   ],
   "source": [
    "from sklearn.metrics import confusion_matrix\n",
    "\n",
    "#testing the Branch classifier\n",
    "y_test=np.reshape(y_test_line,np.size(y_test_line,0)*np.size(y_test_line,1),'c')\n",
    "y_pred=np.reshape(y_pred_line,np.size(y_test_line,0)*np.size(y_test_line,1),'c')\n",
    "\n",
    "probability_fitering=np.array([0.999])\n",
    "\n",
    "y_predline=np.copy(y_pred)\n",
    "y_predline[y_predline >= probability_fitering] = 1\n",
    "y_predline[y_predline < probability_fitering] = 0\n",
    "print(confusion_matrix(y_test, y_predline))\n",
    "\n",
    "#testing the Ramp Up classifier\n",
    "y_test=np.reshape(y_test_rampRU,np.size(y_test_rampRU,0)*np.size(y_test_rampRU,1),'c')\n",
    "y_pred=np.reshape(y_pred_rampRU,np.size(y_test_rampRU,0)*np.size(y_test_rampRU,1),'c')\n",
    "\n",
    "y_predRU=np.copy(y_pred)\n",
    "y_predRU[y_predRU >= probability_fitering] = 1\n",
    "y_predRU[y_predRU < probability_fitering] = 0\n",
    "print(confusion_matrix(y_test, y_predRU))\n",
    "\n",
    "#testing the Ramp Down classifier\n",
    "y_test=np.reshape(y_test_rampRD,np.size(y_test_rampRD,0)*np.size(y_test_rampRD,1),'c')\n",
    "y_pred=np.reshape(y_pred_rampRD,np.size(y_test_rampRD,0)*np.size(y_test_rampRD,1),'c')\n",
    "\n",
    "y_predRD=np.copy(y_pred)\n",
    "y_predRD[y_predRD >= probability_fitering] = 1\n",
    "y_predRD[y_predRD < probability_fitering] = 0\n",
    "print(confusion_matrix(y_test, y_predRD))"
   ]
  },
  {
   "cell_type": "code",
   "execution_count": 16,
   "metadata": {},
   "outputs": [
    {
     "name": "stdout",
     "output_type": "stream",
     "text": [
      "(400, 816)\n",
      "(400, 230)\n",
      "(400, 230)\n",
      "(400, 34, 24)\n",
      "(400, 10, 23)\n",
      "(400, 10, 23)\n"
     ]
    }
   ],
   "source": [
    "#ouput data reshaping\n",
    "n_test_scenario=np.size(demand_img_test,0)\n",
    "y_predline=np.reshape(y_predline,(n_test_scenario,Nbranch*24),'c')\n",
    "y_predRU=np.reshape(y_predRU,(n_test_scenario,Nunits*23),'c')\n",
    "y_predRD=np.reshape(y_predRD,(n_test_scenario,Nunits*23),'c')\n",
    "print(y_predline.shape)\n",
    "print(y_predRU.shape)\n",
    "print(y_predRD.shape)\n",
    "\n",
    "#Breaking each scenario into row and columns\n",
    "y_predline=np.reshape(y_predline,(n_test_scenario,Nbranch,24),'F')\n",
    "y_predRU=np.reshape(y_predRU,(n_test_scenario,Nunits,23),'F')\n",
    "y_predRD=np.reshape(y_predRD,(n_test_scenario,Nunits,23),'F')\n",
    "print(y_predline.shape)\n",
    "print(y_predRU.shape)\n",
    "print(y_predRD.shape)"
   ]
  },
  {
   "cell_type": "code",
   "execution_count": 17,
   "metadata": {},
   "outputs": [],
   "source": [
    "#saving the trained model\n",
    "model_line.save(\"model_line_24_Last.h5\")\n",
    "model_rampRU.save(\"model_rampRU_24_Last.h5\")\n",
    "model_rampRD.save(\"model_rampRD_24_Last.h5\")"
   ]
  },
  {
   "cell_type": "code",
   "execution_count": 18,
   "metadata": {},
   "outputs": [],
   "source": [
    "#saving the predicted result back to image format\n",
    "from skimage import io\n",
    "io.imsave('predicted_branch_const_24_Last.tif',y_predline)\n",
    "io.imsave('predicted_rampRU_const_24_Last.tif',y_predRU)\n",
    "io.imsave('predicted_rampRD_const_24_Last.tif',y_predRD)"
   ]
  },
  {
   "cell_type": "code",
   "execution_count": null,
   "metadata": {},
   "outputs": [],
   "source": []
  }
 ],
 "metadata": {
  "kernelspec": {
   "display_name": "Python 3",
   "language": "python",
   "name": "python3"
  },
  "language_info": {
   "codemirror_mode": {
    "name": "ipython",
    "version": 3
   },
   "file_extension": ".py",
   "mimetype": "text/x-python",
   "name": "python",
   "nbconvert_exporter": "python",
   "pygments_lexer": "ipython3",
   "version": "3.7.7"
  }
 },
 "nbformat": 4,
 "nbformat_minor": 2
}
